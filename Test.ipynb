{
 "cells": [
  {
   "cell_type": "code",
   "execution_count": 1,
   "id": "0d7f2f83",
   "metadata": {},
   "outputs": [],
   "source": [
    "# Auto-reload modules when their source changes\n",
    "%load_ext autoreload\n",
    "%autoreload 2"
   ]
  },
  {
   "cell_type": "markdown",
   "id": "70304189",
   "metadata": {},
   "source": [
    "ModelsConfig test"
   ]
  },
  {
   "cell_type": "code",
   "execution_count": 4,
   "id": "87986afc",
   "metadata": {},
   "outputs": [],
   "source": [
    "from lib.config.ProviderKeys import ProviderKeys\n",
    "from lib.config.ModelsConfig import ModelsConfig\n",
    "from lib.PromptHandler import PromptHandler"
   ]
  },
  {
   "cell_type": "code",
   "execution_count": 24,
   "id": "8aafbe5b",
   "metadata": {},
   "outputs": [],
   "source": [
    "handler = PromptHandler(\n",
    "    model_name=\"gpt-4o-mini\",\n",
    "    provider=\"OpenAI\",\n",
    "    system_prompt=\"You are an cooking expert. Answer concisely and accurately.\"\n",
    ")\n",
    "text = await handler.generate_response(\"How to make perfect panckes?\")"
   ]
  },
  {
   "cell_type": "code",
   "execution_count": 25,
   "id": "bf3b6e1f",
   "metadata": {},
   "outputs": [
    {
     "name": "stdout",
     "output_type": "stream",
     "text": [
      "To make perfect pancakes, follow these steps:\n",
      "\n",
      "### Ingredients:\n",
      "- 1 cup all-purpose flour\n",
      "- 2 tablespoons sugar\n",
      "- 1 teaspoon baking powder\n",
      "- 1/2 teaspoon baking soda\n",
      "- 1/4 teaspoon salt\n",
      "- 1 cup buttermilk (or milk with 1 tablespoon vinegar)\n",
      "- 1 large egg\n",
      "- 2 tablespoons melted butter or oil\n",
      "- Optional: vanilla extract\n",
      "\n",
      "### Instructions:\n",
      "1. **Mix Dry Ingredients**: In a bowl, whisk together flour, sugar, baking powder, baking soda, and salt.\n",
      "\n",
      "2. **Mix Wet Ingredients**: In another bowl, whisk together buttermilk, egg, melted butter, and vanilla if using.\n",
      "\n",
      "3. **Combine**: Pour the wet ingredients into the dry ingredients. Stir gently until just combined. Do not over-mix; small lumps are okay.\n",
      "\n",
      "4. **Preheat**: Heat a non-stick skillet or griddle over medium heat. Lightly grease with oil or butter.\n",
      "\n",
      "5. **Cook**: Pour about 1/4 cup of batter onto the hot surface. Cook until bubbles form on the surface and edges look set (about 2-3 minutes). Flip and cook for another 1-2 minutes until golden brown.\n",
      "\n",
      "6. **Serve**: Serve warm with your favorite toppings (e.g., maple syrup, fruits, whipped cream).\n",
      "\n",
      "### Tips:\n",
      "- For fluffier pancakes, let the batter rest for 5-10 minutes.\n",
      "- Ensure your skillet is properly heated to avoid undercooked centers or burnt edges. Adjust the heat as necessary.\n",
      "- Experiment with add-ins like blueberries or chocolate chips for variation.\n"
     ]
    }
   ],
   "source": [
    "print(text.output.replace(\"\\\\n\", \"\\n\"))\n"
   ]
  },
  {
   "cell_type": "markdown",
   "id": "fff85588",
   "metadata": {},
   "source": [
    "ModelRegistry test"
   ]
  },
  {
   "cell_type": "code",
   "execution_count": null,
   "id": "3577868e",
   "metadata": {},
   "outputs": [],
   "source": [
    "from lib.PromptHandler import PromptHandler\n",
    "from lib.bootstrap.bootstrap_models import register_all_models\n",
    "\n",
    "register_all_models()"
   ]
  },
  {
   "cell_type": "code",
   "execution_count": null,
   "id": "8715539a",
   "metadata": {},
   "outputs": [
    {
     "name": "stdout",
     "output_type": "stream",
     "text": [
      "AgentRunResult(output='Sure! Here’s a simple and delicious vanilla cupcake recipe:\\n\\n### Vanilla Cupcakes\\n\\n#### Ingredients:\\n- **1 1/2 cups** all-purpose flour\\n- **1 cup** granulated sugar\\n- **1/2 cup** unsalted butter, softened\\n- **2 large** eggs\\n- **1/2 cup** milk (whole or 2% is best)\\n- **1 tablespoon** vanilla extract\\n- **1 3/4 teaspoons** baking powder\\n- **1/2 teaspoon** salt\\n\\n#### Instructions:\\n\\n1. **Preheat the Oven:** Preheat your oven to 350°F (175°C) and line a muffin tin with paper cupcake liners.\\n\\n2. **Mix Dry Ingredients:** In a medium bowl, whisk together the flour, baking powder, and salt. Set aside.\\n\\n3. **Cream Butter and Sugar:** In a large bowl, beat the softened butter and sugar together using an electric mixer on medium speed until light and fluffy (about 3-4 minutes).\\n\\n4. **Add Eggs and Vanilla:** Add the eggs one at a time, mixing well after each addition. Then mix in the vanilla extract.\\n\\n5. **Combine Ingredients:** Gradually add the dry ingredients to the wet mixture in three parts, alternating with the milk. Start and end with the dry ingredients. Mix until just combined; do not overmix.\\n\\n6. **Fill Cupcake Liners:** Divide the batter evenly among the prepared cupcake liners, filling each about two-thirds full.\\n\\n7. **Bake:** Bake in the preheated oven for 15-20 minutes, or until a toothpick inserted into the center comes out clean.\\n\\n8. **Cool:** Remove from the oven and let the cupcakes cool in the pan for about 5 minutes. Then transfer them to a wire rack to cool completely before frosting.\\n\\n#### Optional Frosting:\\nYou can top these cupcakes with your favorite frosting. A simple buttercream frosting is always a great choice!\\n\\n### Basic Buttercream Frosting\\n- **1/2 cup** unsalted butter, softened\\n- **2 cups** powdered sugar\\n- **2 tablespoons** milk\\n- **1 teaspoon** vanilla extract\\n\\n**Instructions:**\\n1. Beat the softened butter with an electric mixer until creamy.\\n2. Gradually add the powdered sugar, mixing until well combined.\\n3. Add milk and vanilla, then beat on high speed until fluffy.\\n\\nEnjoy your homemade vanilla cupcakes!')\n"
     ]
    }
   ],
   "source": [
    "handler = PromptHandler(\n",
    "    model_name=\"gpt-4o-mini\",\n",
    "    provider=\"openai\",\n",
    "    system_prompt=\"Respond clearly and helpfully.\"\n",
    ")\n",
    "response = await handler.generate_response(\"Give me a cupcake recipe.\")\n",
    "print(response)\n"
   ]
  }
 ],
 "metadata": {
  "kernelspec": {
   "display_name": ".venv",
   "language": "python",
   "name": "python3"
  },
  "language_info": {
   "codemirror_mode": {
    "name": "ipython",
    "version": 3
   },
   "file_extension": ".py",
   "mimetype": "text/x-python",
   "name": "python",
   "nbconvert_exporter": "python",
   "pygments_lexer": "ipython3",
   "version": "3.13.1"
  }
 },
 "nbformat": 4,
 "nbformat_minor": 5
}
