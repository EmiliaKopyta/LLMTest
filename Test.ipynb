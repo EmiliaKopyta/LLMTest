{
 "cells": [
  {
   "cell_type": "code",
   "execution_count": 13,
   "id": "0d7f2f83",
   "metadata": {},
   "outputs": [
    {
     "name": "stdout",
     "output_type": "stream",
     "text": [
      "The autoreload extension is already loaded. To reload it, use:\n",
      "  %reload_ext autoreload\n"
     ]
    }
   ],
   "source": [
    "# Auto-reload modules when their source changes\n",
    "%load_ext autoreload\n",
    "%autoreload 2"
   ]
  },
  {
   "cell_type": "code",
   "execution_count": 22,
   "id": "87986afc",
   "metadata": {},
   "outputs": [],
   "source": [
    "from lib.config.ProviderKeys import ProviderKeys\n",
    "from lib.config.ModelsConfig import ModelsConfig\n",
    "from lib.PromptHandler import PromptHandler"
   ]
  },
  {
   "cell_type": "code",
   "execution_count": 24,
   "id": "8aafbe5b",
   "metadata": {},
   "outputs": [],
   "source": [
    "handler = PromptHandler(\n",
    "    model_name=\"gpt-4o-mini\",\n",
    "    provider=\"OpenAI\",\n",
    "    system_prompt=\"You are an cooking expert. Answer concisely and accurately.\"\n",
    ")\n",
    "text = await handler.generate_response(\"How to make perfect panckes?\")"
   ]
  },
  {
   "cell_type": "code",
   "execution_count": 25,
   "id": "bf3b6e1f",
   "metadata": {},
   "outputs": [
    {
     "name": "stdout",
     "output_type": "stream",
     "text": [
      "To make perfect pancakes, follow these steps:\n",
      "\n",
      "### Ingredients:\n",
      "- 1 cup all-purpose flour\n",
      "- 2 tablespoons sugar\n",
      "- 1 teaspoon baking powder\n",
      "- 1/2 teaspoon baking soda\n",
      "- 1/4 teaspoon salt\n",
      "- 1 cup buttermilk (or milk with 1 tablespoon vinegar)\n",
      "- 1 large egg\n",
      "- 2 tablespoons melted butter or oil\n",
      "- Optional: vanilla extract\n",
      "\n",
      "### Instructions:\n",
      "1. **Mix Dry Ingredients**: In a bowl, whisk together flour, sugar, baking powder, baking soda, and salt.\n",
      "\n",
      "2. **Mix Wet Ingredients**: In another bowl, whisk together buttermilk, egg, melted butter, and vanilla if using.\n",
      "\n",
      "3. **Combine**: Pour the wet ingredients into the dry ingredients. Stir gently until just combined. Do not over-mix; small lumps are okay.\n",
      "\n",
      "4. **Preheat**: Heat a non-stick skillet or griddle over medium heat. Lightly grease with oil or butter.\n",
      "\n",
      "5. **Cook**: Pour about 1/4 cup of batter onto the hot surface. Cook until bubbles form on the surface and edges look set (about 2-3 minutes). Flip and cook for another 1-2 minutes until golden brown.\n",
      "\n",
      "6. **Serve**: Serve warm with your favorite toppings (e.g., maple syrup, fruits, whipped cream).\n",
      "\n",
      "### Tips:\n",
      "- For fluffier pancakes, let the batter rest for 5-10 minutes.\n",
      "- Ensure your skillet is properly heated to avoid undercooked centers or burnt edges. Adjust the heat as necessary.\n",
      "- Experiment with add-ins like blueberries or chocolate chips for variation.\n"
     ]
    }
   ],
   "source": [
    "print(text.output.replace(\"\\\\n\", \"\\n\"))\n"
   ]
  }
 ],
 "metadata": {
  "kernelspec": {
   "display_name": ".venv",
   "language": "python",
   "name": "python3"
  },
  "language_info": {
   "codemirror_mode": {
    "name": "ipython",
    "version": 3
   },
   "file_extension": ".py",
   "mimetype": "text/x-python",
   "name": "python",
   "nbconvert_exporter": "python",
   "pygments_lexer": "ipython3",
   "version": "3.13.1"
  }
 },
 "nbformat": 4,
 "nbformat_minor": 5
}
